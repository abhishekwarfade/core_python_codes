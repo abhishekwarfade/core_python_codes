{
 "cells": [
  {
   "cell_type": "code",
   "execution_count": null,
   "id": "e1a5fe1f",
   "metadata": {},
   "outputs": [],
   "source": [
    "#FORMATING STRING\n",
    "#string.format(arguments)"
   ]
  },
  {
   "cell_type": "code",
   "execution_count": 5,
   "id": "b7e7c6d0",
   "metadata": {},
   "outputs": [],
   "source": [
    "name=\"chitti\"\n",
    "age=57"
   ]
  },
  {
   "cell_type": "code",
   "execution_count": 6,
   "id": "21855cbc",
   "metadata": {},
   "outputs": [
    {
     "name": "stdout",
     "output_type": "stream",
     "text": [
      "chitti age is 57\n"
     ]
    }
   ],
   "source": [
    "print(\"{} age is {}\".format(name,age))"
   ]
  },
  {
   "cell_type": "code",
   "execution_count": 7,
   "id": "be49fb74",
   "metadata": {},
   "outputs": [
    {
     "name": "stdout",
     "output_type": "stream",
     "text": [
      "chitti age is 57\n"
     ]
    }
   ],
   "source": [
    "print(\"{0} age is {1}\".format(name,age))"
   ]
  },
  {
   "cell_type": "code",
   "execution_count": 8,
   "id": "2cd9d87b",
   "metadata": {},
   "outputs": [
    {
     "name": "stdout",
     "output_type": "stream",
     "text": [
      "chitti age is 57\n"
     ]
    }
   ],
   "source": [
    "print(\"{1} age is {0}\".format(age,name))"
   ]
  },
  {
   "cell_type": "code",
   "execution_count": 10,
   "id": "455b5b6d",
   "metadata": {},
   "outputs": [
    {
     "name": "stdout",
     "output_type": "stream",
     "text": [
      "chitti age is 57\n"
     ]
    }
   ],
   "source": [
    "print(\"{a} age is {b}\".format(a=name,b=age))"
   ]
  },
  {
   "cell_type": "code",
   "execution_count": 11,
   "id": "4f7b84c9",
   "metadata": {},
   "outputs": [
    {
     "name": "stdout",
     "output_type": "stream",
     "text": [
      "chitti age is 57\n"
     ]
    }
   ],
   "source": [
    "print(f\"{name} age is {age}\")"
   ]
  },
  {
   "cell_type": "code",
   "execution_count": 12,
   "id": "eb4c43ab",
   "metadata": {},
   "outputs": [
    {
     "name": "stdout",
     "output_type": "stream",
     "text": [
      "Decimal number =30\n"
     ]
    }
   ],
   "source": [
    "print(\"Decimal number ={}\".format(30))"
   ]
  },
  {
   "cell_type": "code",
   "execution_count": 13,
   "id": "9c09c528",
   "metadata": {},
   "outputs": [
    {
     "name": "stdout",
     "output_type": "stream",
     "text": [
      "Decimal number =30\n"
     ]
    }
   ],
   "source": [
    "print(\"Decimal number ={:d}\".format(30))"
   ]
  },
  {
   "cell_type": "code",
   "execution_count": 63,
   "id": "fc279162",
   "metadata": {},
   "outputs": [
    {
     "name": "stdout",
     "output_type": "stream",
     "text": [
      "float number =30.000000\n"
     ]
    }
   ],
   "source": [
    "print(\"float number ={:f}\".format(30))"
   ]
  },
  {
   "cell_type": "code",
   "execution_count": 21,
   "id": "d3d426a8",
   "metadata": {},
   "outputs": [
    {
     "name": "stdout",
     "output_type": "stream",
     "text": [
      "binary number =11110\n"
     ]
    }
   ],
   "source": [
    "print(\"binary number ={:b}\".format(30))"
   ]
  },
  {
   "cell_type": "code",
   "execution_count": 22,
   "id": "e6670220",
   "metadata": {},
   "outputs": [
    {
     "name": "stdout",
     "output_type": "stream",
     "text": [
      "octal number =36\n"
     ]
    }
   ],
   "source": [
    "print(\"octal number ={:o}\".format(30))"
   ]
  },
  {
   "cell_type": "code",
   "execution_count": 23,
   "id": "546c2b6e",
   "metadata": {},
   "outputs": [
    {
     "name": "stdout",
     "output_type": "stream",
     "text": [
      " hexaDecimal number =1e\n"
     ]
    }
   ],
   "source": [
    "print(\" hexaDecimal number ={:x}\".format(30))"
   ]
  },
  {
   "cell_type": "code",
   "execution_count": 24,
   "id": "1591d351",
   "metadata": {},
   "outputs": [
    {
     "name": "stdout",
     "output_type": "stream",
     "text": [
      " HexaDecimal number =1E\n"
     ]
    }
   ],
   "source": [
    "print(\" HexaDecimal number ={:X}\".format(30))"
   ]
  },
  {
   "cell_type": "code",
   "execution_count": 25,
   "id": "43d5749f",
   "metadata": {},
   "outputs": [
    {
     "name": "stdout",
     "output_type": "stream",
     "text": [
      "0b11110\n"
     ]
    }
   ],
   "source": [
    "print(bin(30))"
   ]
  },
  {
   "cell_type": "code",
   "execution_count": 26,
   "id": "668f9b71",
   "metadata": {},
   "outputs": [
    {
     "name": "stdout",
     "output_type": "stream",
     "text": [
      "0o36\n"
     ]
    }
   ],
   "source": [
    "print(oct(30))"
   ]
  },
  {
   "cell_type": "code",
   "execution_count": 27,
   "id": "ff251937",
   "metadata": {},
   "outputs": [
    {
     "name": "stdout",
     "output_type": "stream",
     "text": [
      "0x1e\n"
     ]
    }
   ],
   "source": [
    "print(hex(30))"
   ]
  },
  {
   "cell_type": "code",
   "execution_count": null,
   "id": "59988796",
   "metadata": {},
   "outputs": [],
   "source": [
    "#setting width of integer\n"
   ]
  },
  {
   "cell_type": "code",
   "execution_count": 64,
   "id": "deffb91c",
   "metadata": {},
   "outputs": [
    {
     "name": "stdout",
     "output_type": "stream",
     "text": [
      "Decimal number =   30\n"
     ]
    }
   ],
   "source": [
    "print(\"Decimal number ={:5d}\".format(30))"
   ]
  },
  {
   "cell_type": "code",
   "execution_count": 65,
   "id": "3184c4ae",
   "metadata": {},
   "outputs": [
    {
     "name": "stdout",
     "output_type": "stream",
     "text": [
      "Decimal number =00030\n"
     ]
    }
   ],
   "source": [
    "print(\"Decimal number ={:05d}\".format(30))"
   ]
  },
  {
   "cell_type": "code",
   "execution_count": 34,
   "id": "297eacc4",
   "metadata": {},
   "outputs": [
    {
     "name": "stdout",
     "output_type": "stream",
     "text": [
      "float number =30.5648\n"
     ]
    }
   ],
   "source": [
    "#setting precision for floats default (6)\n",
    "print(\"float number ={}\".format(30.5648))"
   ]
  },
  {
   "cell_type": "code",
   "execution_count": 35,
   "id": "33f4e6be",
   "metadata": {},
   "outputs": [
    {
     "name": "stdout",
     "output_type": "stream",
     "text": [
      "float number =30.564800\n"
     ]
    }
   ],
   "source": [
    "print(\"float number ={:f}\".format(30.5648))"
   ]
  },
  {
   "cell_type": "code",
   "execution_count": 37,
   "id": "de828d98",
   "metadata": {},
   "outputs": [
    {
     "name": "stdout",
     "output_type": "stream",
     "text": [
      "float number =  30.565\n"
     ]
    }
   ],
   "source": [
    "print(\"float number ={:8.3f}\".format(30.5648))  #default(6)"
   ]
  },
  {
   "cell_type": "code",
   "execution_count": 39,
   "id": "c063e8a6",
   "metadata": {},
   "outputs": [
    {
     "name": "stdout",
     "output_type": "stream",
     "text": [
      "float number =0030.565\n"
     ]
    }
   ],
   "source": [
    "print(\"float number ={:08.3f}\".format(30.5648))"
   ]
  },
  {
   "cell_type": "code",
   "execution_count": 42,
   "id": "4f5af75a",
   "metadata": {},
   "outputs": [
    {
     "name": "stdout",
     "output_type": "stream",
     "text": [
      "float number =30.565\n"
     ]
    }
   ],
   "source": [
    "print(\"float number ={:02.3f}\".format(30.5648))"
   ]
  },
  {
   "cell_type": "code",
   "execution_count": 43,
   "id": "40a8fd96",
   "metadata": {},
   "outputs": [],
   "source": [
    "#signed numbers"
   ]
  },
  {
   "cell_type": "code",
   "execution_count": 44,
   "id": "c8900307",
   "metadata": {},
   "outputs": [
    {
     "name": "stdout",
     "output_type": "stream",
     "text": [
      "float number =+30.564800\n"
     ]
    }
   ],
   "source": [
    "print(\"float number ={:+f}\".format(30.5648))"
   ]
  },
  {
   "cell_type": "code",
   "execution_count": 45,
   "id": "fa6d162c",
   "metadata": {},
   "outputs": [
    {
     "name": "stdout",
     "output_type": "stream",
     "text": [
      "Decimal number =+30\n"
     ]
    }
   ],
   "source": [
    "print(\"Decimal number ={:+d}\".format(30))"
   ]
  },
  {
   "cell_type": "code",
   "execution_count": 50,
   "id": "c6ed9c33",
   "metadata": {},
   "outputs": [
    {
     "name": "stdout",
     "output_type": "stream",
     "text": [
      "Decimal number =00030\n"
     ]
    }
   ],
   "source": [
    "#setting allignment     (default allignmnet fro number right) ,(default allignmnet for string left(<))\n",
    "\n",
    "print(\"Decimal number ={:05d}\".format(30)) #right allignment"
   ]
  },
  {
   "cell_type": "code",
   "execution_count": 66,
   "id": "eba2f8ff",
   "metadata": {},
   "outputs": [
    {
     "name": "stdout",
     "output_type": "stream",
     "text": [
      "Decimal number =***30\n"
     ]
    }
   ],
   "source": [
    "print(\"Decimal number ={:*>5d}\".format(30)) #right allignment"
   ]
  },
  {
   "cell_type": "code",
   "execution_count": 67,
   "id": "58809514",
   "metadata": {},
   "outputs": [
    {
     "name": "stdout",
     "output_type": "stream",
     "text": [
      "Decimal number =30   \n"
     ]
    }
   ],
   "source": [
    "print(\"Decimal number ={:<5d}\".format(30)) #left allignment(<)"
   ]
  },
  {
   "cell_type": "code",
   "execution_count": 52,
   "id": "1682243b",
   "metadata": {},
   "outputs": [
    {
     "name": "stdout",
     "output_type": "stream",
     "text": [
      "Decimal number =30***\n"
     ]
    }
   ],
   "source": [
    "print(\"Decimal number ={:*<5d}\".format(30)) #left allignment"
   ]
  },
  {
   "cell_type": "code",
   "execution_count": 56,
   "id": "2acc01e4",
   "metadata": {},
   "outputs": [
    {
     "name": "stdout",
     "output_type": "stream",
     "text": [
      "Decimal number =*30**\n",
      "Decimal number =*301*\n",
      "Decimal number =3000*\n"
     ]
    }
   ],
   "source": [
    "print(\"Decimal number ={:*^5d}\".format(30)) #center allignment (stert filll from left)\n",
    "print(\"Decimal number ={:*^5d}\".format(301))\n",
    "print(\"Decimal number ={:*^5d}\".format(3000))"
   ]
  },
  {
   "cell_type": "code",
   "execution_count": null,
   "id": "169b1a59",
   "metadata": {},
   "outputs": [],
   "source": [
    "# for string >>>>>>>>>>>print({: fill allignment width})"
   ]
  },
  {
   "cell_type": "code",
   "execution_count": 59,
   "id": "d6c4be9e",
   "metadata": {},
   "outputs": [
    {
     "name": "stdout",
     "output_type": "stream",
     "text": [
      "kedar\n"
     ]
    }
   ],
   "source": [
    "print(\"{}\".format(\"kedar\"))"
   ]
  },
  {
   "cell_type": "code",
   "execution_count": 62,
   "id": "ac5bba86",
   "metadata": {},
   "outputs": [
    {
     "name": "stdout",
     "output_type": "stream",
     "text": [
      "*****kedar\n",
      "****ke****\n",
      "kedar*****\n"
     ]
    }
   ],
   "source": [
    "print(\"{:*>10}\".format(\"kedar\"))\n",
    "print(\"{:*^10.2}\".format(\"kedar\"))\n",
    "print(\"{:*<10}\".format(\"kedar\"))"
   ]
  },
  {
   "cell_type": "code",
   "execution_count": null,
   "id": "46b02cda",
   "metadata": {},
   "outputs": [],
   "source": []
  }
 ],
 "metadata": {
  "kernelspec": {
   "display_name": "Python 3 (ipykernel)",
   "language": "python",
   "name": "python3"
  },
  "language_info": {
   "codemirror_mode": {
    "name": "ipython",
    "version": 3
   },
   "file_extension": ".py",
   "mimetype": "text/x-python",
   "name": "python",
   "nbconvert_exporter": "python",
   "pygments_lexer": "ipython3",
   "version": "3.10.9"
  }
 },
 "nbformat": 4,
 "nbformat_minor": 5
}

{
 "cells": [
  {
   "cell_type": "code",
   "execution_count": 1,
   "id": "ae505c8b",
   "metadata": {},
   "outputs": [],
   "source": [
    "#mathematical operators with list object"
   ]
  },
  {
   "cell_type": "code",
   "execution_count": 5,
   "id": "339f2127",
   "metadata": {},
   "outputs": [
    {
     "name": "stdout",
     "output_type": "stream",
     "text": [
      "list= [10, 'abc', 30, 40, 'abc', 10]\n"
     ]
    }
   ],
   "source": [
    "# + for concantenation of list\n",
    "a=[10,\"abc\",30]\n",
    "b=[40,\"abc\",10]\n",
    "c=a+b\n",
    "print(\"list=\",c)"
   ]
  },
  {
   "cell_type": "code",
   "execution_count": 9,
   "id": "72c4b290",
   "metadata": {},
   "outputs": [
    {
     "name": "stdout",
     "output_type": "stream",
     "text": [
      "[10, 'abc', 30, 10, 'abc', 30, 10, 'abc', 30]\n"
     ]
    }
   ],
   "source": [
    "# (*) for repeation of list element\n",
    "a=[10,\"abc\",30]\n",
    "b=a*3\n",
    "print(b)"
   ]
  },
  {
   "cell_type": "code",
   "execution_count": 10,
   "id": "5ffe11b6",
   "metadata": {},
   "outputs": [
    {
     "data": {
      "text/plain": [
       "False"
      ]
     },
     "execution_count": 10,
     "metadata": {},
     "output_type": "execute_result"
    }
   ],
   "source": [
    "#comparing list object   for exactly same or not\n",
    "a=[10,\"abc\",30]\n",
    "b=[40,\"dfv\",10]\n",
    "a==b"
   ]
  },
  {
   "cell_type": "code",
   "execution_count": 12,
   "id": "15f13e49",
   "metadata": {},
   "outputs": [
    {
     "data": {
      "text/plain": [
       "True"
      ]
     },
     "execution_count": 12,
     "metadata": {},
     "output_type": "execute_result"
    }
   ],
   "source": [
    "a!=b"
   ]
  },
  {
   "cell_type": "code",
   "execution_count": 13,
   "id": "115276ea",
   "metadata": {},
   "outputs": [
    {
     "data": {
      "text/plain": [
       "True"
      ]
     },
     "execution_count": 13,
     "metadata": {},
     "output_type": "execute_result"
    }
   ],
   "source": [
    "#(<,> <=,>= ) it is used to compare only first element and give result .\n",
    "#comparing list object   for exactly same or not\n",
    "a=[10,\"abc\",30]\n",
    "b=[40,\"dfv\",10]\n",
    "a<=b         #check only first  ie 10<=40"
   ]
  },
  {
   "cell_type": "code",
   "execution_count": 14,
   "id": "38b193e2",
   "metadata": {},
   "outputs": [
    {
     "data": {
      "text/plain": [
       "False"
      ]
     },
     "execution_count": 14,
     "metadata": {},
     "output_type": "execute_result"
    }
   ],
   "source": [
    "a=[10,\"abc\",30]\n",
    "b=[40,\"dfv\",10]\n",
    "a>=b"
   ]
  },
  {
   "cell_type": "code",
   "execution_count": 18,
   "id": "82542f34",
   "metadata": {},
   "outputs": [
    {
     "name": "stdout",
     "output_type": "stream",
     "text": [
      "enter the list:[10,20,30]\n",
      "10 ist in list\n",
      "20 ist in list\n",
      "30 ist in list\n"
     ]
    }
   ],
   "source": [
    "#membership operator (in)\n",
    "#accepting list as input\n",
    "a=eval(input(\"enter the list:\"))\n",
    "for x in a:\n",
    "    print(x,\"ist in list\")"
   ]
  },
  {
   "cell_type": "code",
   "execution_count": 21,
   "id": "385c46ac",
   "metadata": {},
   "outputs": [
    {
     "data": {
      "text/plain": [
       "30"
      ]
     },
     "execution_count": 21,
     "metadata": {},
     "output_type": "execute_result"
    }
   ],
   "source": [
    "#BIF max()  list having same elemrnyt is all are string or float or int only\n",
    "\n",
    "a=[10,20,30]\n",
    "max(a)"
   ]
  },
  {
   "cell_type": "code",
   "execution_count": 23,
   "id": "4468cbff",
   "metadata": {},
   "outputs": [
    {
     "data": {
      "text/plain": [
       "10"
      ]
     },
     "execution_count": 23,
     "metadata": {},
     "output_type": "execute_result"
    }
   ],
   "source": [
    "#BIF min()\n",
    "min(a)"
   ]
  },
  {
   "cell_type": "code",
   "execution_count": 24,
   "id": "5380a179",
   "metadata": {},
   "outputs": [
    {
     "data": {
      "text/plain": [
       "60"
      ]
     },
     "execution_count": 24,
     "metadata": {},
     "output_type": "execute_result"
    }
   ],
   "source": [
    "#BIF sum()\n",
    "sum(a)"
   ]
  },
  {
   "cell_type": "code",
   "execution_count": null,
   "id": "60cee36c",
   "metadata": {},
   "outputs": [],
   "source": []
  },
  {
   "cell_type": "code",
   "execution_count": 29,
   "id": "f32c730e",
   "metadata": {},
   "outputs": [
    {
     "data": {
      "text/plain": [
       "False"
      ]
     },
     "execution_count": 29,
     "metadata": {},
     "output_type": "execute_result"
    }
   ],
   "source": [
    "#BIF any() it return true if at leat one item in the list has a true value (true elemrnt are non zero element)\n",
    "\n",
    "b=[]\n",
    "any(b)"
   ]
  },
  {
   "cell_type": "code",
   "execution_count": 30,
   "id": "a6bda2b7",
   "metadata": {},
   "outputs": [
    {
     "data": {
      "text/plain": [
       "True"
      ]
     },
     "execution_count": 30,
     "metadata": {},
     "output_type": "execute_result"
    }
   ],
   "source": [
    "any(a)"
   ]
  },
  {
   "cell_type": "code",
   "execution_count": 31,
   "id": "b9cbc2b9",
   "metadata": {},
   "outputs": [],
   "source": [
    "#BIF all()it return true if all in the list has a true value (true elemrnt are non zero element) and empty list return true"
   ]
  },
  {
   "cell_type": "code",
   "execution_count": 32,
   "id": "0c790cef",
   "metadata": {},
   "outputs": [
    {
     "data": {
      "text/plain": [
       "True"
      ]
     },
     "execution_count": 32,
     "metadata": {},
     "output_type": "execute_result"
    }
   ],
   "source": [
    "all(b)"
   ]
  },
  {
   "cell_type": "code",
   "execution_count": 34,
   "id": "31a4c541",
   "metadata": {},
   "outputs": [],
   "source": [
    "c=[10,20,0]"
   ]
  },
  {
   "cell_type": "code",
   "execution_count": 35,
   "id": "05234d88",
   "metadata": {},
   "outputs": [
    {
     "data": {
      "text/plain": [
       "False"
      ]
     },
     "execution_count": 35,
     "metadata": {},
     "output_type": "execute_result"
    }
   ],
   "source": [
    "all(c)"
   ]
  },
  {
   "cell_type": "code",
   "execution_count": 36,
   "id": "af81a2ab",
   "metadata": {},
   "outputs": [
    {
     "name": "stdout",
     "output_type": "stream",
     "text": [
      "enter tje list in [][10,20,30]\n",
      "sum of all elements = 60\n"
     ]
    }
   ],
   "source": [
    "#wap to find sum of all elements of list \n",
    "a=eval(input(\"enter tje list in []\"))\n",
    "s=0\n",
    "for x in a:\n",
    "    s+=x\n",
    "print(\"sum of all elements =\",s)    "
   ]
  },
  {
   "cell_type": "code",
   "execution_count": 37,
   "id": "c1c26474",
   "metadata": {},
   "outputs": [
    {
     "name": "stdout",
     "output_type": "stream",
     "text": [
      "enter tje list in [][10,20,30]\n"
     ]
    },
    {
     "data": {
      "text/plain": [
       "60"
      ]
     },
     "execution_count": 37,
     "metadata": {},
     "output_type": "execute_result"
    }
   ],
   "source": [
    "a=eval(input(\"enter tje list in []\"))\n",
    "sum(a)"
   ]
  },
  {
   "cell_type": "code",
   "execution_count": 38,
   "id": "bb4b6414",
   "metadata": {},
   "outputs": [
    {
     "name": "stdout",
     "output_type": "stream",
     "text": [
      "enter tje list in [][10,20,30]\n",
      "priduct of all elements = 6000\n"
     ]
    }
   ],
   "source": [
    "#wap to multiply all the items in list\n",
    "a=eval(input(\"enter tje list in []\"))\n",
    "p=1\n",
    "for x in a:\n",
    "    p*=x\n",
    "print(\"priduct of all elements =\",p)    "
   ]
  },
  {
   "cell_type": "code",
   "execution_count": 39,
   "id": "cd8d4254",
   "metadata": {},
   "outputs": [
    {
     "name": "stdout",
     "output_type": "stream",
     "text": [
      "enter tje list in [][10,20,30]\n",
      "smallest of all elements = 10\n"
     ]
    }
   ],
   "source": [
    "#wap to get the smallest number from the list\n",
    "a=eval(input(\"enter tje list in []\"))\n",
    "m=a[0]\n",
    "for x in a:\n",
    "    if x<m:\n",
    "        m=x\n",
    "print(\"smallest of all elements =\",m)    "
   ]
  },
  {
   "cell_type": "code",
   "execution_count": 41,
   "id": "13cf999a",
   "metadata": {},
   "outputs": [
    {
     "data": {
      "text/plain": [
       "10"
      ]
     },
     "execution_count": 41,
     "metadata": {},
     "output_type": "execute_result"
    }
   ],
   "source": [
    "min(a) # string m,in is calculated alphabetrically"
   ]
  },
  {
   "cell_type": "code",
   "execution_count": null,
   "id": "32477256",
   "metadata": {},
   "outputs": [],
   "source": []
  },
  {
   "cell_type": "code",
   "execution_count": null,
   "id": "9a5d3c4b",
   "metadata": {},
   "outputs": [],
   "source": []
  },
  {
   "cell_type": "code",
   "execution_count": null,
   "id": "376aec20",
   "metadata": {},
   "outputs": [],
   "source": []
  },
  {
   "cell_type": "code",
   "execution_count": null,
   "id": "62bab38d",
   "metadata": {},
   "outputs": [],
   "source": []
  }
 ],
 "metadata": {
  "kernelspec": {
   "display_name": "Python 3 (ipykernel)",
   "language": "python",
   "name": "python3"
  },
  "language_info": {
   "codemirror_mode": {
    "name": "ipython",
    "version": 3
   },
   "file_extension": ".py",
   "mimetype": "text/x-python",
   "name": "python",
   "nbconvert_exporter": "python",
   "pygments_lexer": "ipython3",
   "version": "3.11.4"
  }
 },
 "nbformat": 4,
 "nbformat_minor": 5
}

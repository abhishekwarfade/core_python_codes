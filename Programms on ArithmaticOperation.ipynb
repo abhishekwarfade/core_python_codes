{
 "cells": [
  {
   "cell_type": "code",
   "execution_count": null,
   "id": "682355a9",
   "metadata": {},
   "outputs": [],
   "source": [
    "a=input()"
   ]
  },
  {
   "cell_type": "code",
   "execution_count": null,
   "id": "cdc2ff0d",
   "metadata": {},
   "outputs": [],
   "source": [
    "a"
   ]
  },
  {
   "cell_type": "code",
   "execution_count": null,
   "id": "1983c3cc",
   "metadata": {},
   "outputs": [],
   "source": [
    "print(a)"
   ]
  },
  {
   "cell_type": "code",
   "execution_count": null,
   "id": "c66757c7",
   "metadata": {},
   "outputs": [],
   "source": [
    "a=input(\"enter your name\")"
   ]
  },
  {
   "cell_type": "code",
   "execution_count": null,
   "id": "0110fa0e",
   "metadata": {},
   "outputs": [],
   "source": [
    "a"
   ]
  },
  {
   "cell_type": "code",
   "execution_count": null,
   "id": "16a20ff1",
   "metadata": {},
   "outputs": [],
   "source": [
    "type(a)"
   ]
  },
  {
   "cell_type": "code",
   "execution_count": null,
   "id": "157d153d",
   "metadata": {},
   "outputs": [],
   "source": [
    "a=input(\"enter your number\")"
   ]
  },
  {
   "cell_type": "code",
   "execution_count": null,
   "id": "6fa59939",
   "metadata": {},
   "outputs": [],
   "source": [
    "type(a)"
   ]
  },
  {
   "cell_type": "code",
   "execution_count": null,
   "id": "dc70f07b",
   "metadata": {},
   "outputs": [],
   "source": []
  },
  {
   "cell_type": "code",
   "execution_count": null,
   "id": "98fa6b14",
   "metadata": {},
   "outputs": [],
   "source": [
    "#type conversion"
   ]
  },
  {
   "cell_type": "code",
   "execution_count": null,
   "id": "c1824920",
   "metadata": {},
   "outputs": [],
   "source": [
    "b=int(a)"
   ]
  },
  {
   "cell_type": "code",
   "execution_count": null,
   "id": "08090302",
   "metadata": {},
   "outputs": [],
   "source": [
    "type(b)"
   ]
  },
  {
   "cell_type": "code",
   "execution_count": null,
   "id": "44f4149d",
   "metadata": {},
   "outputs": [],
   "source": [
    "b"
   ]
  },
  {
   "cell_type": "code",
   "execution_count": null,
   "id": "517b1f83",
   "metadata": {},
   "outputs": [],
   "source": [
    "####\n",
    "c=int(input(\"enter the name\"))"
   ]
  },
  {
   "cell_type": "code",
   "execution_count": null,
   "id": "56f1cefa",
   "metadata": {},
   "outputs": [],
   "source": [
    "c\n"
   ]
  },
  {
   "cell_type": "code",
   "execution_count": null,
   "id": "ae494f06",
   "metadata": {},
   "outputs": [],
   "source": [
    "type(c)"
   ]
  },
  {
   "cell_type": "code",
   "execution_count": null,
   "id": "77890579",
   "metadata": {},
   "outputs": [],
   "source": [
    "d=int(input(\"enter the number\"))"
   ]
  },
  {
   "cell_type": "code",
   "execution_count": null,
   "id": "d8d897bb",
   "metadata": {},
   "outputs": [],
   "source": [
    "d=float(input(\"enter the number\"))"
   ]
  },
  {
   "cell_type": "code",
   "execution_count": null,
   "id": "349f83e4",
   "metadata": {},
   "outputs": [],
   "source": [
    "d=eval(input(\"enter the number\"))"
   ]
  },
  {
   "cell_type": "code",
   "execution_count": null,
   "id": "8ae0d9b4",
   "metadata": {},
   "outputs": [],
   "source": [
    "type(d)"
   ]
  },
  {
   "cell_type": "code",
   "execution_count": null,
   "id": "90b6a72d",
   "metadata": {},
   "outputs": [],
   "source": [
    "d=eval(input(\"enter the number\"))"
   ]
  },
  {
   "cell_type": "code",
   "execution_count": null,
   "id": "6c583fa9",
   "metadata": {},
   "outputs": [],
   "source": [
    "type(d)"
   ]
  },
  {
   "cell_type": "code",
   "execution_count": null,
   "id": "f21ec4d4",
   "metadata": {},
   "outputs": [],
   "source": [
    "##### wap to read two integer variable in memory and swap their values\n"
   ]
  },
  {
   "cell_type": "code",
   "execution_count": null,
   "id": "5e7116e1",
   "metadata": {},
   "outputs": [],
   "source": [
    "a=5\n",
    "b=10\n",
    "a,b=b,a"
   ]
  },
  {
   "cell_type": "code",
   "execution_count": null,
   "id": "51ddc1d5",
   "metadata": {},
   "outputs": [],
   "source": [
    "print(\"a is\",a)\n",
    "print(\"b is\",b)"
   ]
  },
  {
   "cell_type": "code",
   "execution_count": null,
   "id": "3a542f1e",
   "metadata": {},
   "outputs": [],
   "source": [
    "a=int(input(\"enter first number\"))\n",
    "b=int(input(\"enter second number\"))\n",
    "print(\"before swapping\")\n",
    "print(\"a is\",a)\n",
    "print(\"b is\",b)"
   ]
  },
  {
   "cell_type": "code",
   "execution_count": null,
   "id": "2cde34dc",
   "metadata": {},
   "outputs": [],
   "source": [
    "a,b=b,a\n",
    "print(\"after swapping\")\n",
    "print(\"a is\",a)\n",
    "print(\"b is\",b)"
   ]
  },
  {
   "cell_type": "code",
   "execution_count": null,
   "id": "3f102e64",
   "metadata": {},
   "outputs": [],
   "source": [
    "###### usibg third variable \n",
    "a=int(input(\"enter first number\"))\n",
    "b=int(input(\"enter second number\"))\n",
    "print(\"before swapping\")\n",
    "print(\"a is\",a)\n",
    "print(\"b is\",b)\n",
    "t=a\n",
    "a=b\n",
    "b=t"
   ]
  },
  {
   "cell_type": "code",
   "execution_count": null,
   "id": "896e6a1b",
   "metadata": {},
   "outputs": [],
   "source": [
    "print(\"after swapping\")\n",
    "print(\"a is\",a)\n",
    "print(\"b is\",b)"
   ]
  },
  {
   "cell_type": "code",
   "execution_count": null,
   "id": "5db84f3b",
   "metadata": {},
   "outputs": [],
   "source": [
    "\n",
    "\n",
    "\n",
    "2+5 \n",
    "#add\n",
    "\n"
   ]
  },
  {
   "cell_type": "code",
   "execution_count": null,
   "id": "b823baf6",
   "metadata": {},
   "outputs": [],
   "source": [
    "2-5 #sub"
   ]
  },
  {
   "cell_type": "code",
   "execution_count": null,
   "id": "8c49a2c8",
   "metadata": {},
   "outputs": [],
   "source": [
    "2*5   "
   ]
  },
  {
   "cell_type": "code",
   "execution_count": null,
   "id": "106320c7",
   "metadata": {},
   "outputs": [],
   "source": [
    "2**5       #power calculaton\n"
   ]
  },
  {
   "cell_type": "code",
   "execution_count": null,
   "id": "cf017bee",
   "metadata": {},
   "outputs": [],
   "source": [
    "5/2       #complete divison"
   ]
  },
  {
   "cell_type": "code",
   "execution_count": null,
   "id": "58c4de4a",
   "metadata": {},
   "outputs": [],
   "source": [
    "5//2 #floor division"
   ]
  },
  {
   "cell_type": "code",
   "execution_count": null,
   "id": "626ab5a3",
   "metadata": {},
   "outputs": [],
   "source": [
    "5%2    #modulus\n"
   ]
  },
  {
   "cell_type": "code",
   "execution_count": null,
   "id": "2ae932cc",
   "metadata": {},
   "outputs": [],
   "source": [
    "#wap to  calculateaddition of two numbers\n",
    "a=eval(input(\"enter the first number\"))\n",
    "b=eval(input(\"enter the second  number\"))\n",
    "sum=a+b\n",
    "print(\"sum\",sum)"
   ]
  },
  {
   "cell_type": "code",
   "execution_count": null,
   "id": "3fbb1a0e",
   "metadata": {},
   "outputs": [],
   "source": [
    "#wap to  calculate subtraction of two numbers\n",
    "a=eval(input(\"enter the first number\"))\n",
    "b=eval(input(\"enter the second  number\"))\n",
    "sub=a-b\n",
    "print(\"sub\",sub)"
   ]
  },
  {
   "cell_type": "code",
   "execution_count": 1,
   "id": "efad1799",
   "metadata": {},
   "outputs": [
    {
     "name": "stdout",
     "output_type": "stream",
     "text": [
      "enter the first number12\n",
      "enter the second  number45\n",
      "multiplication 540\n"
     ]
    }
   ],
   "source": [
    "#wap to  calculate multiplication of two numbers\n",
    "a=eval(input(\"enter the first number\"))\n",
    "b=eval(input(\"enter the second  number\"))\n",
    "mult=a*b\n",
    "print(\"multiplication\",mult)"
   ]
  },
  {
   "cell_type": "code",
   "execution_count": 2,
   "id": "146c7ca0",
   "metadata": {},
   "outputs": [],
   "source": [
    "#wap to  calculat sqaure as cube of two numbers\n"
   ]
  },
  {
   "cell_type": "code",
   "execution_count": 6,
   "id": "5e521a6e",
   "metadata": {},
   "outputs": [
    {
     "name": "stdout",
     "output_type": "stream",
     "text": [
      "enter the first number15\n",
      "enter the second  number15\n",
      "sqaure of a 225\n",
      "sqaure of b 225\n",
      "cube of a 3375\n",
      "cube of b 3375\n"
     ]
    }
   ],
   "source": [
    "a=eval(input(\"enter the first number\"))\n",
    "b=eval(input(\"enter the second  number\"))\n",
    "\n",
    "print(\"sqaure of a\",a**2)\n",
    "print(\"sqaure of b\",b**2)\n",
    "print(\"cube of a\",a**3)\n",
    "print(\"cube of b\",b**3)"
   ]
  },
  {
   "cell_type": "code",
   "execution_count": 4,
   "id": "128c1531",
   "metadata": {},
   "outputs": [
    {
     "name": "stdout",
     "output_type": "stream",
     "text": [
      "sqaure of a 16\n",
      "sqaure of b 25\n"
     ]
    }
   ],
   "source": [
    "print(\"sqaure of a\",a*a)\n",
    "print(\"sqaure of b\",b*b)"
   ]
  },
  {
   "cell_type": "code",
   "execution_count": 5,
   "id": "54ea036b",
   "metadata": {},
   "outputs": [
    {
     "name": "stdout",
     "output_type": "stream",
     "text": [
      "cube of a 64\n",
      "cube of a 125\n"
     ]
    }
   ],
   "source": [
    "print(\"cube of a\",a*a*a)\n",
    "print(\"cube of a\",b*b*b)"
   ]
  },
  {
   "cell_type": "code",
   "execution_count": 8,
   "id": "727883c0",
   "metadata": {},
   "outputs": [
    {
     "name": "stdout",
     "output_type": "stream",
     "text": [
      "enter the radius12\n",
      "area of circle 452.15999999999997\n",
      "perimeter of circle 75.36\n"
     ]
    }
   ],
   "source": [
    "#wap  to radius of circle calculate is area as well perimeter\n",
    "#r=5\n",
    "r=eval(input(\"enter the radius\"))\n",
    "area=3.14*r*r\n",
    "perimeter=2*3.14*r\n",
    "print(\"area of circle\",area)\n",
    "print(\"perimeter of circle\",perimeter)"
   ]
  },
  {
   "cell_type": "code",
   "execution_count": 9,
   "id": "1410b280",
   "metadata": {},
   "outputs": [
    {
     "name": "stdout",
     "output_type": "stream",
     "text": [
      "enter length of rectangle4\n",
      "enetr the breadth of rectangle2\n",
      "area of rectangle 8\n",
      "perimeter of rectangle 12\n"
     ]
    }
   ],
   "source": [
    "# wap to calculate lenght and breadth of rectangle then calculate area and perimeter\n",
    "l=eval(input(\"enter length of rectangle\"))\n",
    "b=eval(input(\"enetr the breadth of rectangle\"))\n",
    "area=l*b\n",
    "perimeter=2*(l+b)\n",
    "print(\"area of rectangle\",area)\n",
    "print(\"perimeter of rectangle\",perimeter)"
   ]
  },
  {
   "cell_type": "code",
   "execution_count": null,
   "id": "97c9c55f",
   "metadata": {},
   "outputs": [],
   "source": []
  },
  {
   "cell_type": "code",
   "execution_count": 10,
   "id": "e9ffa7dc",
   "metadata": {},
   "outputs": [
    {
     "name": "stdout",
     "output_type": "stream",
     "text": [
      "enter the base2\n",
      "enter the index5\n",
      "power 32\n"
     ]
    }
   ],
   "source": [
    "#wap to read two integers(x,y)and calculate power x^y\n",
    "x=eval(input(\"enter the base\"))\n",
    "y=eval(input(\"enter the index\"))\n",
    "print(\"power\",x**y)\n"
   ]
  },
  {
   "cell_type": "code",
   "execution_count": null,
   "id": "bc2a2fe0",
   "metadata": {},
   "outputs": [],
   "source": []
  }
 ],
 "metadata": {
  "kernelspec": {
   "display_name": "Python 3 (ipykernel)",
   "language": "python",
   "name": "python3"
  },
  "language_info": {
   "codemirror_mode": {
    "name": "ipython",
    "version": 3
   },
   "file_extension": ".py",
   "mimetype": "text/x-python",
   "name": "python",
   "nbconvert_exporter": "python",
   "pygments_lexer": "ipython3",
   "version": "3.9.13"
  }
 },
 "nbformat": 4,
 "nbformat_minor": 5
}

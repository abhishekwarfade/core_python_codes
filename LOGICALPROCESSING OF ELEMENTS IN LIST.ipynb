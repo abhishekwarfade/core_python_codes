{
 "cells": [
  {
   "cell_type": "code",
   "execution_count": null,
   "id": "0e7abb0c",
   "metadata": {},
   "outputs": [],
   "source": [
    "#LOGICAL PROCESSING OF ELEMENTS IN LIST\n"
   ]
  },
  {
   "cell_type": "code",
   "execution_count": 6,
   "id": "87bcf4a6",
   "metadata": {},
   "outputs": [
    {
     "name": "stdout",
     "output_type": "stream",
     "text": [
      "enter the list[10,20,30]\n",
      "list of even numbers are []\n"
     ]
    }
   ],
   "source": [
    "#WAP TO PRINT THE NUMBERS OF A SPECIFIED LIST AFTER REMOVEING EVEN NUMBERS FROM IT\n",
    "a=eval(input(\"enter the list\"))\n",
    "b=[]\n",
    "for x in a:\n",
    "    if x%2!=0:\n",
    "        b.append(x)\n",
    "print(\"list of even numbers are\",b)        "
   ]
  },
  {
   "cell_type": "code",
   "execution_count": 9,
   "id": "433788b6",
   "metadata": {},
   "outputs": [
    {
     "name": "stdout",
     "output_type": "stream",
     "text": [
      "enter the list[10,20,30]\n",
      "[]\n"
     ]
    }
   ],
   "source": [
    "a=eval(input(\"enter the list\")) #comprehension\n",
    "a=[x for x in a if x%2!=0]\n",
    "print(a)"
   ]
  },
  {
   "cell_type": "code",
   "execution_count": 11,
   "id": "a2812e12",
   "metadata": {},
   "outputs": [
    {
     "name": "stdout",
     "output_type": "stream",
     "text": [
      "enter the list[10,20,30]\n",
      "enter the number25\n",
      "[30]\n"
     ]
    }
   ],
   "source": [
    "#wap to find all the values in list that are greater than a specified numbers (try to used comprehension)\n",
    "a=eval(input(\"enter the list\"))\n",
    "n=eval(input(\"enter the number\"))\n",
    "b=[]\n",
    "for x in a:\n",
    "    if x>n:\n",
    "        b.append(x)\n",
    "print(b)        \n",
    "        \n",
    "\n",
    "\n"
   ]
  },
  {
   "cell_type": "code",
   "execution_count": 13,
   "id": "70fe5a49",
   "metadata": {},
   "outputs": [
    {
     "name": "stdout",
     "output_type": "stream",
     "text": [
      "enter the list[10,20,30]\n",
      "enter the number20\n"
     ]
    },
    {
     "data": {
      "text/plain": [
       "[30]"
      ]
     },
     "execution_count": 13,
     "metadata": {},
     "output_type": "execute_result"
    }
   ],
   "source": [
    "a=eval(input(\"enter the list\"))\n",
    "n=eval(input(\"enter the number\"))\n",
    "a=[x for x in a if x>n]\n",
    "a"
   ]
  },
  {
   "cell_type": "code",
   "execution_count": 14,
   "id": "d4165a4f",
   "metadata": {},
   "outputs": [
    {
     "name": "stdout",
     "output_type": "stream",
     "text": [
      "[36, 49, 64, 81, 100, 121, 144, 169, 196, 225, 256, 289, 324, 361, 400, 441, 484, 529, 576, 625, 676, 729, 784, 841, 900]\n"
     ]
    }
   ],
   "source": [
    "#wap to generate and print a list except for the first 5 elements whwre the values are squaree of nubres between 1 and 30.\n",
    "a=[]\n",
    "for x in range(1,31):\n",
    "    a.append(x*x)\n",
    "print(a[5:])    "
   ]
  },
  {
   "cell_type": "code",
   "execution_count": 15,
   "id": "1df13bed",
   "metadata": {},
   "outputs": [
    {
     "name": "stdout",
     "output_type": "stream",
     "text": [
      "[36, 49, 64, 81, 100, 121, 144, 169, 196, 225, 256, 289, 324, 361, 400, 441, 484, 529, 576, 625, 676, 729, 784, 841, 900]\n"
     ]
    }
   ],
   "source": [
    "a=[x*x for x in range(1,31)] #comprehension\n",
    "print(a[5:])"
   ]
  },
  {
   "cell_type": "code",
   "execution_count": 16,
   "id": "a3e7d4a4",
   "metadata": {},
   "outputs": [
    {
     "data": {
      "text/plain": [
       "['emp1', 'emp2', 'emp3', 'emp4']"
      ]
     },
     "execution_count": 16,
     "metadata": {},
     "output_type": "execute_result"
    }
   ],
   "source": [
    "#wap  programm to insert a given string the beginning of all items in a list\n",
    "\n",
    "#sampele list [10,20,30] string:emp\n",
    "#output [\"emp1\",\"emp2\",\"emp3\"]\n",
    "\n",
    "a=[1,2,3,4]\n",
    "b=[]\n",
    "for x in a:\n",
    "    b.append(\"emp\"+str(x))\n",
    "b\n",
    "\n",
    "\n",
    "\n",
    "\n",
    "\n",
    "\n",
    "\n",
    "\n",
    "\n",
    "\n",
    "\n",
    "\n"
   ]
  },
  {
   "cell_type": "code",
   "execution_count": 19,
   "id": "71cc7433",
   "metadata": {},
   "outputs": [
    {
     "name": "stdout",
     "output_type": "stream",
     "text": [
      "enter the list [][10,20,30,40]\n",
      "enter the stringabhi\n"
     ]
    },
    {
     "data": {
      "text/plain": [
       "['abhi10', 'abhi20', 'abhi30', 'abhi40']"
      ]
     },
     "execution_count": 19,
     "metadata": {},
     "output_type": "execute_result"
    }
   ],
   "source": [
    "a=eval(input(\"enter the list []\"))\n",
    "s=input(\"enter the string\")\n",
    "\n",
    "b=[]\n",
    "for x in a:\n",
    "    b.append(s+str(x))\n",
    "b\n"
   ]
  },
  {
   "cell_type": "code",
   "execution_count": 24,
   "id": "75c44ef6",
   "metadata": {},
   "outputs": [
    {
     "name": "stdout",
     "output_type": "stream",
     "text": [
      "enter the list1 [][10,20,30,40]\n",
      "enter the list2 [][30,40,10,20]\n",
      "list are circularly identical\n"
     ]
    }
   ],
   "source": [
    "#wap to check whwather two list are circularly identical or not\n",
    "#[10,20,30,40] and [30,40,10,20]\n",
    "a=eval(input(\"enter the list1 []\"))\n",
    "b=eval(input(\"enter the list2 []\"))\n",
    "a=[str(x) for x in a]\n",
    "b=[str(x) for x in b]\n",
    "a=\"\".join(a)\n",
    "b=\"\".join(b)\n",
    "if b in a*2:\n",
    "    print(\"list are circularly identical\")\n",
    "else:\n",
    "    print(\"list are not circularly identical\")"
   ]
  },
  {
   "cell_type": "code",
   "execution_count": 22,
   "id": "b4007d40",
   "metadata": {},
   "outputs": [
    {
     "name": "stdout",
     "output_type": "stream",
     "text": [
      "enter the list1 [][10,20]\n"
     ]
    },
    {
     "data": {
      "text/plain": [
       "'[10, 20]'"
      ]
     },
     "execution_count": 22,
     "metadata": {},
     "output_type": "execute_result"
    }
   ],
   "source": [
    "a=eval(input(\"enter the list1 []\"))\n",
    "str(a)"
   ]
  },
  {
   "cell_type": "code",
   "execution_count": 26,
   "id": "4211c3e5",
   "metadata": {},
   "outputs": [
    {
     "name": "stdout",
     "output_type": "stream",
     "text": [
      "enter the list1 [][10,20,30,40]\n"
     ]
    },
    {
     "data": {
      "text/plain": [
       "'10203040'"
      ]
     },
     "execution_count": 26,
     "metadata": {},
     "output_type": "execute_result"
    }
   ],
   "source": [
    "a=eval(input(\"enter the list1 []\"))\n",
    "a=[str(x) for x in a]\n",
    "a\n",
    "a=\"\".join(a)\n",
    "a"
   ]
  },
  {
   "cell_type": "code",
   "execution_count": 29,
   "id": "365aece8",
   "metadata": {},
   "outputs": [
    {
     "name": "stdout",
     "output_type": "stream",
     "text": [
      "10 50\n",
      "20 60\n",
      "30 70\n"
     ]
    }
   ],
   "source": [
    "#wap to iterate over two list of same lentgh simpultaneously(bif - zip)\n",
    "#zip()\n",
    "a=[10,20,30]\n",
    "b=[50,60,70]\n",
    "zip(a,b)\n",
    "list(zip(a,b))\n",
    "for x, y in zip(a,b):\n",
    "    print(x,y)"
   ]
  },
  {
   "cell_type": "code",
   "execution_count": 30,
   "id": "276c854c",
   "metadata": {},
   "outputs": [
    {
     "name": "stdout",
     "output_type": "stream",
     "text": [
      "(10, 50)\n",
      "(20, 60)\n",
      "(30, 70)\n"
     ]
    }
   ],
   "source": [
    "for  y in zip(a,b):\n",
    "    print(y)"
   ]
  },
  {
   "cell_type": "code",
   "execution_count": 31,
   "id": "c0a3e1eb",
   "metadata": {},
   "outputs": [
    {
     "name": "stdout",
     "output_type": "stream",
     "text": [
      "enter the list1 [][10,20,30,40]\n",
      "enter the list2 [][10,52,63]\n",
      "10 10\n",
      "20 52\n",
      "30 63\n"
     ]
    }
   ],
   "source": [
    "a=eval(input(\"enter the list1 []\")) #shorted list paryant kam krte\n",
    "b=eval(input(\"enter the list2 []\"))\n",
    "for x, y in zip(a,b):\n",
    "    print(x,y)"
   ]
  },
  {
   "cell_type": "code",
   "execution_count": 38,
   "id": "0e4964f2",
   "metadata": {},
   "outputs": [],
   "source": [
    "#enumerate(iterable,start=0)\n",
    "#write a programm to print a specifird list after removing the 0th,4th and 5th elements (bif enumerate )\n",
    "#sample list: [\"red \",\"green\",\"white\",\"black\",\"pink\",\"yellow\"]\n",
    "#output:[\"green\",\"white\",\"black\"]\n"
   ]
  },
  {
   "cell_type": "code",
   "execution_count": 39,
   "id": "b1cbfccf",
   "metadata": {},
   "outputs": [
    {
     "data": {
      "text/plain": [
       "[(0, 'red '),\n",
       " (1, 'green'),\n",
       " (2, 'white'),\n",
       " (3, 'black'),\n",
       " (4, 'pink'),\n",
       " (5, 'yellow')]"
      ]
     },
     "execution_count": 39,
     "metadata": {},
     "output_type": "execute_result"
    }
   ],
   "source": [
    "a=[\"red \",\"green\",\"white\",\"black\",\"pink\",\"yellow\"]\n",
    "list(enumerate(a))"
   ]
  },
  {
   "cell_type": "code",
   "execution_count": 40,
   "id": "73af24dc",
   "metadata": {},
   "outputs": [
    {
     "data": {
      "text/plain": [
       "['green', 'white', 'black']"
      ]
     },
     "execution_count": 40,
     "metadata": {},
     "output_type": "execute_result"
    }
   ],
   "source": [
    "b=[y for (x,y) in enumerate(a) if x not in (0,4,5)]\n",
    "b"
   ]
  },
  {
   "cell_type": "code",
   "execution_count": 41,
   "id": "1c8ad81f",
   "metadata": {},
   "outputs": [
    {
     "name": "stdout",
     "output_type": "stream",
     "text": [
      "green\n",
      "white\n",
      "black\n"
     ]
    }
   ],
   "source": [
    "for (x,y) in enumerate(a):\n",
    "    if x not in [0,4,5]:\n",
    "        print(y)"
   ]
  },
  {
   "cell_type": "code",
   "execution_count": 2,
   "id": "29d17c48",
   "metadata": {},
   "outputs": [
    {
     "name": "stdout",
     "output_type": "stream",
     "text": [
      "enter the number1 2 3 4 5 6 7 8 9\n"
     ]
    },
    {
     "data": {
      "text/plain": [
       "['1',\n",
       " ' ',\n",
       " '2',\n",
       " ' ',\n",
       " '3',\n",
       " ' ',\n",
       " '4',\n",
       " ' ',\n",
       " '5',\n",
       " ' ',\n",
       " '6',\n",
       " ' ',\n",
       " '7',\n",
       " ' ',\n",
       " '8',\n",
       " ' ',\n",
       " '9']"
      ]
     },
     "execution_count": 2,
     "metadata": {},
     "output_type": "execute_result"
    }
   ],
   "source": [
    "a=input(\"enter the number\")   # it will create list of strings\n",
    "list(a)"
   ]
  },
  {
   "cell_type": "code",
   "execution_count": null,
   "id": "47d165fb",
   "metadata": {},
   "outputs": [],
   "source": []
  }
 ],
 "metadata": {
  "kernelspec": {
   "display_name": "Python 3 (ipykernel)",
   "language": "python",
   "name": "python3"
  },
  "language_info": {
   "codemirror_mode": {
    "name": "ipython",
    "version": 3
   },
   "file_extension": ".py",
   "mimetype": "text/x-python",
   "name": "python",
   "nbconvert_exporter": "python",
   "pygments_lexer": "ipython3",
   "version": "3.11.4"
  }
 },
 "nbformat": 4,
 "nbformat_minor": 5
}

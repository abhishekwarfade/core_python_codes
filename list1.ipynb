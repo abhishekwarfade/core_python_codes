{
 "cells": [
  {
   "cell_type": "code",
   "execution_count": 32,
   "id": "1e3bff40",
   "metadata": {},
   "outputs": [],
   "source": [
    "#@alising and cloning of list object\n",
    "a=[10,20,30]\n"
   ]
  },
  {
   "cell_type": "code",
   "execution_count": 33,
   "id": "063b9195",
   "metadata": {},
   "outputs": [],
   "source": [
    "b=a\n",
    "        #alising"
   ]
  },
  {
   "cell_type": "code",
   "execution_count": 34,
   "id": "74e6a0d2",
   "metadata": {},
   "outputs": [
    {
     "data": {
      "text/plain": [
       "2234458312320"
      ]
     },
     "execution_count": 34,
     "metadata": {},
     "output_type": "execute_result"
    }
   ],
   "source": [
    "id(a)"
   ]
  },
  {
   "cell_type": "code",
   "execution_count": 35,
   "id": "c3dc0006",
   "metadata": {},
   "outputs": [
    {
     "data": {
      "text/plain": [
       "2234458312320"
      ]
     },
     "execution_count": 35,
     "metadata": {},
     "output_type": "execute_result"
    }
   ],
   "source": [
    "id(b)"
   ]
  },
  {
   "cell_type": "code",
   "execution_count": 36,
   "id": "9ff9f708",
   "metadata": {},
   "outputs": [],
   "source": [
    "b[1]=250"
   ]
  },
  {
   "cell_type": "code",
   "execution_count": 37,
   "id": "0f392f31",
   "metadata": {},
   "outputs": [
    {
     "data": {
      "text/plain": [
       "[10, 250, 30]"
      ]
     },
     "execution_count": 37,
     "metadata": {},
     "output_type": "execute_result"
    }
   ],
   "source": [
    "b"
   ]
  },
  {
   "cell_type": "code",
   "execution_count": 38,
   "id": "bc9f14fa",
   "metadata": {},
   "outputs": [
    {
     "data": {
      "text/plain": [
       "[10, 250, 30]"
      ]
     },
     "execution_count": 38,
     "metadata": {},
     "output_type": "execute_result"
    }
   ],
   "source": [
    "a         #drwaback of alising it modify both list"
   ]
  },
  {
   "cell_type": "code",
   "execution_count": 39,
   "id": "3cb418cc",
   "metadata": {},
   "outputs": [],
   "source": [
    "b=a[::] #clonig through slice it will modify that list on which we perfom the operation"
   ]
  },
  {
   "cell_type": "code",
   "execution_count": 40,
   "id": "3c4cdd09",
   "metadata": {},
   "outputs": [
    {
     "data": {
      "text/plain": [
       "2234458312320"
      ]
     },
     "execution_count": 40,
     "metadata": {},
     "output_type": "execute_result"
    }
   ],
   "source": [
    "id(a)"
   ]
  },
  {
   "cell_type": "code",
   "execution_count": 41,
   "id": "662fe9ad",
   "metadata": {},
   "outputs": [
    {
     "data": {
      "text/plain": [
       "2234458317760"
      ]
     },
     "execution_count": 41,
     "metadata": {},
     "output_type": "execute_result"
    }
   ],
   "source": [
    "id(b)"
   ]
  },
  {
   "cell_type": "code",
   "execution_count": 42,
   "id": "5c98e3e2",
   "metadata": {},
   "outputs": [],
   "source": [
    "b[1]=20"
   ]
  },
  {
   "cell_type": "code",
   "execution_count": 43,
   "id": "bb099dfe",
   "metadata": {},
   "outputs": [
    {
     "data": {
      "text/plain": [
       "[10, 20, 30]"
      ]
     },
     "execution_count": 43,
     "metadata": {},
     "output_type": "execute_result"
    }
   ],
   "source": [
    "b"
   ]
  },
  {
   "cell_type": "code",
   "execution_count": 44,
   "id": "f8a1bd67",
   "metadata": {},
   "outputs": [
    {
     "data": {
      "text/plain": [
       "[10, 250, 30]"
      ]
     },
     "execution_count": 44,
     "metadata": {},
     "output_type": "execute_result"
    }
   ],
   "source": [
    "a"
   ]
  },
  {
   "cell_type": "code",
   "execution_count": 46,
   "id": "e4b0114c",
   "metadata": {},
   "outputs": [],
   "source": [
    "a[0]=60"
   ]
  },
  {
   "cell_type": "code",
   "execution_count": 47,
   "id": "94d626f0",
   "metadata": {},
   "outputs": [
    {
     "data": {
      "text/plain": [
       "[60, 250, 30]"
      ]
     },
     "execution_count": 47,
     "metadata": {},
     "output_type": "execute_result"
    }
   ],
   "source": [
    "a"
   ]
  },
  {
   "cell_type": "code",
   "execution_count": 48,
   "id": "b248e0bd",
   "metadata": {},
   "outputs": [
    {
     "data": {
      "text/plain": [
       "[10, 20, 30]"
      ]
     },
     "execution_count": 48,
     "metadata": {},
     "output_type": "execute_result"
    }
   ],
   "source": [
    "b"
   ]
  },
  {
   "cell_type": "code",
   "execution_count": 49,
   "id": "437c2548",
   "metadata": {},
   "outputs": [],
   "source": [
    "b=a.copy()"
   ]
  },
  {
   "cell_type": "code",
   "execution_count": 50,
   "id": "f49b22bf",
   "metadata": {},
   "outputs": [
    {
     "data": {
      "text/plain": [
       "[60, 250, 30]"
      ]
     },
     "execution_count": 50,
     "metadata": {},
     "output_type": "execute_result"
    }
   ],
   "source": [
    "b"
   ]
  },
  {
   "cell_type": "code",
   "execution_count": 76,
   "id": "84fe66d1",
   "metadata": {},
   "outputs": [
    {
     "data": {
      "text/plain": [
       "2234472137536"
      ]
     },
     "execution_count": 76,
     "metadata": {},
     "output_type": "execute_result"
    }
   ],
   "source": [
    "id(a)"
   ]
  },
  {
   "cell_type": "code",
   "execution_count": 77,
   "id": "93cdcfc9",
   "metadata": {},
   "outputs": [
    {
     "data": {
      "text/plain": [
       "2234471823488"
      ]
     },
     "execution_count": 77,
     "metadata": {},
     "output_type": "execute_result"
    }
   ],
   "source": [
    "id(b)"
   ]
  },
  {
   "cell_type": "code",
   "execution_count": 51,
   "id": "fb09da5b",
   "metadata": {},
   "outputs": [],
   "source": [
    "b[1]=30"
   ]
  },
  {
   "cell_type": "code",
   "execution_count": 52,
   "id": "9fc85320",
   "metadata": {},
   "outputs": [
    {
     "data": {
      "text/plain": [
       "[60, 30, 30]"
      ]
     },
     "execution_count": 52,
     "metadata": {},
     "output_type": "execute_result"
    }
   ],
   "source": [
    "b"
   ]
  },
  {
   "cell_type": "code",
   "execution_count": 53,
   "id": "8a0d8a1b",
   "metadata": {},
   "outputs": [
    {
     "data": {
      "text/plain": [
       "[60, 250, 30]"
      ]
     },
     "execution_count": 53,
     "metadata": {},
     "output_type": "execute_result"
    }
   ],
   "source": [
    "a"
   ]
  },
  {
   "cell_type": "code",
   "execution_count": 66,
   "id": "afe273d5",
   "metadata": {},
   "outputs": [
    {
     "name": "stdout",
     "output_type": "stream",
     "text": [
      "10 <class 'int'>\n",
      "20 <class 'int'>\n",
      "cxv <class 'str'>\n",
      "1.5 <class 'float'>\n"
     ]
    }
   ],
   "source": [
    "#traversing list\n",
    "#wap to traverse the list an dprint type of each element\n",
    "a=[10,20,\"cxv\",1.5]\n",
    "i=0\n",
    "while i<len(a):\n",
    "    print(a[i],type(a[i]))\n",
    "    i+=1"
   ]
  },
  {
   "cell_type": "code",
   "execution_count": 79,
   "id": "0e4ea358",
   "metadata": {},
   "outputs": [
    {
     "name": "stdout",
     "output_type": "stream",
     "text": [
      "10 <class 'int'>\n",
      "20 <class 'int'>\n",
      "cxv <class 'str'>\n",
      "1.5 <class 'float'>\n"
     ]
    }
   ],
   "source": [
    "a=[10,20,\"cxv\",1.5]\n",
    "for item  in a:\n",
    "    print(item,type(item))"
   ]
  },
  {
   "cell_type": "code",
   "execution_count": 72,
   "id": "a27da021",
   "metadata": {},
   "outputs": [
    {
     "data": {
      "text/plain": [
       "['hello', 'word']"
      ]
     },
     "execution_count": 72,
     "metadata": {},
     "output_type": "execute_result"
    }
   ],
   "source": [
    "a=\"hello word\"\n",
    "b=a.split()\n",
    "b"
   ]
  },
  {
   "cell_type": "code",
   "execution_count": 73,
   "id": "2ee4093e",
   "metadata": {},
   "outputs": [],
   "source": [
    "b=list(a)"
   ]
  },
  {
   "cell_type": "code",
   "execution_count": 74,
   "id": "984aaa91",
   "metadata": {},
   "outputs": [
    {
     "data": {
      "text/plain": [
       "['h', 'e', 'l', 'l', 'o', ' ', 'w', 'o', 'r', 'd']"
      ]
     },
     "execution_count": 74,
     "metadata": {},
     "output_type": "execute_result"
    }
   ],
   "source": [
    "b"
   ]
  },
  {
   "cell_type": "code",
   "execution_count": 75,
   "id": "ed0fbb65",
   "metadata": {},
   "outputs": [
    {
     "data": {
      "text/plain": [
       "'x'"
      ]
     },
     "execution_count": 75,
     "metadata": {},
     "output_type": "execute_result"
    }
   ],
   "source": [
    "a=[10,20,\"cxv\",1.5]\n",
    "a[2][1]"
   ]
  },
  {
   "cell_type": "code",
   "execution_count": null,
   "id": "8b92bd7b",
   "metadata": {},
   "outputs": [],
   "source": []
  }
 ],
 "metadata": {
  "kernelspec": {
   "display_name": "Python 3 (ipykernel)",
   "language": "python",
   "name": "python3"
  },
  "language_info": {
   "codemirror_mode": {
    "name": "ipython",
    "version": 3
   },
   "file_extension": ".py",
   "mimetype": "text/x-python",
   "name": "python",
   "nbconvert_exporter": "python",
   "pygments_lexer": "ipython3",
   "version": "3.11.4"
  }
 },
 "nbformat": 4,
 "nbformat_minor": 5
}

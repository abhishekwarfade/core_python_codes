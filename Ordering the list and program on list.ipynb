{
 "cells": [
  {
   "cell_type": "code",
   "execution_count": null,
   "id": "f435410d",
   "metadata": {},
   "outputs": [],
   "source": [
    "\"\"\"#ordering elements of list\n",
    "1. reverse() \n",
    "2  sort()\"\"\""
   ]
  },
  {
   "cell_type": "code",
   "execution_count": 2,
   "id": "3d393411",
   "metadata": {},
   "outputs": [
    {
     "data": {
      "text/plain": [
       "[40, 30, 20, 10]"
      ]
     },
     "execution_count": 2,
     "metadata": {},
     "output_type": "execute_result"
    }
   ],
   "source": [
    "#reverse\n",
    "a=[10,20,30,40]\n",
    "a.reverse()\n",
    "a"
   ]
  },
  {
   "cell_type": "code",
   "execution_count": 5,
   "id": "8b53b050",
   "metadata": {},
   "outputs": [
    {
     "data": {
      "text/plain": [
       "[10, 20, 30, 40]"
      ]
     },
     "execution_count": 5,
     "metadata": {},
     "output_type": "execute_result"
    }
   ],
   "source": [
    "b=a[::-1]\n",
    "b"
   ]
  },
  {
   "cell_type": "code",
   "execution_count": 7,
   "id": "c99ced91",
   "metadata": {},
   "outputs": [
    {
     "data": {
      "text/plain": [
       "[10, 20, 30, 40]"
      ]
     },
     "execution_count": 7,
     "metadata": {},
     "output_type": "execute_result"
    }
   ],
   "source": [
    "#sort\n",
    "b=[40, 30, 20, 10]\n",
    "b.sort()\n",
    "b"
   ]
  },
  {
   "cell_type": "code",
   "execution_count": 10,
   "id": "a80fb98d",
   "metadata": {},
   "outputs": [
    {
     "data": {
      "text/plain": [
       "[10, 20, 30, 40]"
      ]
     },
     "execution_count": 10,
     "metadata": {},
     "output_type": "execute_result"
    }
   ],
   "source": [
    "#copy                       copy and pop,count function only return\n",
    "\n",
    "a=[10,20,30,40]\n",
    "b=a.copy()\n",
    "b"
   ]
  },
  {
   "cell_type": "code",
   "execution_count": 12,
   "id": "2b000152",
   "metadata": {},
   "outputs": [
    {
     "data": {
      "text/plain": [
       "1"
      ]
     },
     "execution_count": 12,
     "metadata": {},
     "output_type": "execute_result"
    }
   ],
   "source": [
    "#count\n",
    "b=[40, 30, 20, 10]\n",
    "b.count(40)"
   ]
  },
  {
   "cell_type": "code",
   "execution_count": 15,
   "id": "9fbe97fa",
   "metadata": {},
   "outputs": [
    {
     "data": {
      "text/plain": [
       "2"
      ]
     },
     "execution_count": 15,
     "metadata": {},
     "output_type": "execute_result"
    }
   ],
   "source": [
    "#index(item)\n",
    "b.index(20)"
   ]
  },
  {
   "cell_type": "code",
   "execution_count": 21,
   "id": "ae4f66a7",
   "metadata": {},
   "outputs": [
    {
     "name": "stdout",
     "output_type": "stream",
     "text": [
      "enter the list in [][10,20,30,40]\n"
     ]
    },
    {
     "data": {
      "text/plain": [
       "[10, 20, 30, 40]"
      ]
     },
     "execution_count": 21,
     "metadata": {},
     "output_type": "execute_result"
    }
   ],
   "source": [
    "#wap to remove duplicates from list\n",
    "a=eval(input(\"enter the list in []\"))\n",
    "b=[]\n",
    "for x in a:\n",
    "    if x not in b:\n",
    "        b.append(x)\n",
    "a=b   \n",
    "a"
   ]
  },
  {
   "cell_type": "code",
   "execution_count": 26,
   "id": "b566000a",
   "metadata": {},
   "outputs": [
    {
     "name": "stdout",
     "output_type": "stream",
     "text": [
      "enter the list 1 in [][10,20,30,40]\n",
      "enter the list 2 in [][80,20,62,40]\n",
      "20  is  common elemnt\n"
     ]
    }
   ],
   "source": [
    "#wap to takes two lists and check if if they have at least one common member\n",
    "a=eval(input(\"enter the list 1 in []\"))\n",
    "b=eval(input(\"enter the list 2 in []\"))\n",
    "for x in a:\n",
    "    if x in b:\n",
    "        print(x,\" is  common elemnt\")\n",
    "        break\n",
    "else:\n",
    "     print(\"thre is no common element\")"
   ]
  },
  {
   "cell_type": "code",
   "execution_count": 28,
   "id": "4752e498",
   "metadata": {},
   "outputs": [
    {
     "name": "stdout",
     "output_type": "stream",
     "text": [
      "enter the list 1 in [][10,20,30,40]\n",
      "enter the list 2 in [][80,20,62,40]\n",
      "20  is  common elemnt\n",
      "40  is  common elemnt\n"
     ]
    }
   ],
   "source": [
    "a=eval(input(\"enter the list 1 in []\"))\n",
    "b=eval(input(\"enter the list 2 in []\"))\n",
    "for x in a:\n",
    "    if x in b:\n",
    "        print(x,\" is  common elemnt\")\n"
   ]
  },
  {
   "cell_type": "code",
   "execution_count": 30,
   "id": "20fd44ca",
   "metadata": {},
   "outputs": [
    {
     "name": "stdout",
     "output_type": "stream",
     "text": [
      "enter the list 1 in [][10,20,30,40]\n",
      "enter the list 2 in [][80,20,62,40]\n",
      "list of common element [20, 40]\n"
     ]
    }
   ],
   "source": [
    "#wap to create list of common elements\n",
    "a=eval(input(\"enter the list 1 in []\"))\n",
    "b=eval(input(\"enter the list 2 in []\"))\n",
    "c=[]\n",
    "for x in a:\n",
    "    if x in b:\n",
    "         c.append(x) \n",
    "print(\"list of common element\",c)"
   ]
  },
  {
   "cell_type": "code",
   "execution_count": 34,
   "id": "6832c202",
   "metadata": {},
   "outputs": [
    {
     "name": "stdout",
     "output_type": "stream",
     "text": [
      "enter the list 1 in [][]\n",
      "List is empty list\n"
     ]
    }
   ],
   "source": [
    "#wap to check a list empty or not 1)\n",
    "a=eval(input(\"enter the list 1 in []\"))\n",
    "any(a)\n",
    "if any(a) is False:\n",
    "    print(\"List is empty list\")"
   ]
  },
  {
   "cell_type": "code",
   "execution_count": 37,
   "id": "312f17ae",
   "metadata": {},
   "outputs": [
    {
     "name": "stdout",
     "output_type": "stream",
     "text": [
      "enter the list 1 in [][]\n",
      "List is empty list\n"
     ]
    }
   ],
   "source": [
    "#2)\n",
    "a=eval(input(\"enter the list 1 in []\"))\n",
    "if len(a)==0:\n",
    "    print(\"List is empty list\")\n",
    "else:\n",
    "     print(\"List is not empty list\")"
   ]
  },
  {
   "cell_type": "code",
   "execution_count": 38,
   "id": "201d6884",
   "metadata": {},
   "outputs": [
    {
     "name": "stdout",
     "output_type": "stream",
     "text": [
      "enter the list 1 in [][]\n",
      "List is empty list\n"
     ]
    }
   ],
   "source": [
    "#3) empty=a is false and ita not empty then a is true\n",
    "a=eval(input(\"enter the list 1 in []\"))\n",
    "if not a:\n",
    "    print(\"List is empty list\")\n",
    "else:\n",
    "     print(\"List is not empty list\")"
   ]
  },
  {
   "cell_type": "code",
   "execution_count": 43,
   "id": "828952a1",
   "metadata": {},
   "outputs": [
    {
     "name": "stdout",
     "output_type": "stream",
     "text": [
      "enter the list 1 in [][\"abc\",\"aba\",\"121\",\"212\",\"qq\"]\n",
      "4\n"
     ]
    }
   ],
   "source": [
    "#wap to coun t the number of strings where the string length is 2 or more and the first and last charascter are same from a given list of string\n",
    "a=eval(input(\"enter the list 1 in []\"))\n",
    "c=0\n",
    "for x in a:\n",
    "    if len(x)>=2 and x[0]==x[-1]:\n",
    "        c+=1\n",
    "print(c)        "
   ]
  },
  {
   "cell_type": "code",
   "execution_count": null,
   "id": "a2229824",
   "metadata": {},
   "outputs": [],
   "source": []
  }
 ],
 "metadata": {
  "kernelspec": {
   "display_name": "Python 3 (ipykernel)",
   "language": "python",
   "name": "python3"
  },
  "language_info": {
   "codemirror_mode": {
    "name": "ipython",
    "version": 3
   },
   "file_extension": ".py",
   "mimetype": "text/x-python",
   "name": "python",
   "nbconvert_exporter": "python",
   "pygments_lexer": "ipython3",
   "version": "3.11.4"
  }
 },
 "nbformat": 4,
 "nbformat_minor": 5
}

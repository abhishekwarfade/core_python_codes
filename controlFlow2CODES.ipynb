{
 "cells": [
  {
   "cell_type": "code",
   "execution_count": null,
   "id": "988953ae",
   "metadata": {},
   "outputs": [],
   "source": [
    "#WAP TO READ A NUMBER Check if it is even or odd by ternary oprator\n",
    "\n",
    "a=int(input(\"enetr the number\"))\n",
    "print(a,\"is even\")if a%2==0 else print(a,\"is odd\")\n",
    "\n",
    "# challenge gross salary by ternary operator"
   ]
  },
  {
   "cell_type": "code",
   "execution_count": 21,
   "id": "db24a516",
   "metadata": {},
   "outputs": [
    {
     "name": "stdout",
     "output_type": "stream",
     "text": [
      "inter the pcm mark100\n",
      "inter the cet mark200\n",
      "your not eligible\n"
     ]
    }
   ],
   "source": [
    "#nested if statement \n",
    "\n",
    "\"\"\"WAP PROGRAMM FOR ELIGIBLE STUDENT THROUGH PCM AND CET \n",
    "pcm>=150\n",
    "cet>=100\"\"\"\n",
    "\n",
    "\n",
    "pcm=eval(input(\"inter the pcm mark\"))\n",
    "cet=eval(input(\"inter the cet mark\"))\n",
    "if pcm>=150:\n",
    "    if cet>=100:\n",
    "        print(\"your are eligible\")\n",
    "    else:\n",
    "        print(\"your not eligible\")\n",
    "else:\n",
    "    print(\"your not eligible\")\n",
    "        \n",
    "\n"
   ]
  },
  {
   "cell_type": "code",
   "execution_count": 1,
   "id": "5055d72d",
   "metadata": {},
   "outputs": [
    {
     "name": "stdout",
     "output_type": "stream",
     "text": [
      "enetr the first number15\n",
      "enetr the second number20\n",
      "enetr the second number25\n",
      "25 c is largest\n"
     ]
    }
   ],
   "source": [
    "#WAP TO READ THREE NUMBER AND FIND LARGEST USING NESTED IF ELSE\n",
    "a=eval(input(\"enetr the first number\"))\n",
    "b=eval(input(\"enetr the second number\"))\n",
    "\n",
    "c=eval(input(\"enetr the second number\"))\n",
    "\n",
    "if a>b:\n",
    "    if a>c:\n",
    "        print(a,\"a is largest\")\n",
    "    else:\n",
    "        print(c,\"c is largest\")\n",
    "else:\n",
    "    if b>c:\n",
    "        print(b,\"b is largest\")\n",
    "    else:\n",
    "        print(c,\"c is largest\")\n",
    "    \n",
    "\n"
   ]
  },
  {
   "cell_type": "code",
   "execution_count": 3,
   "id": "20c7a756",
   "metadata": {},
   "outputs": [
    {
     "name": "stdout",
     "output_type": "stream",
     "text": [
      "enter the age400\n",
      "400  your aliann  alian \n"
     ]
    }
   ],
   "source": [
    "# if-elif- else ladder\n",
    "#Wap to read age from user and print child if age is below 18.adult if aeg is 18 or above.senior citizen if age 65 or above \n",
    "# nasel tr sathi apan ladder vaprto\n",
    "age=eval(input(\"enter the age\"))\n",
    "\n",
    "if age<18:\n",
    "    print(age,\"is child\")\n",
    "elif age<65:\n",
    "        print(age,\"adult\")\n",
    "elif age<120:\n",
    "        print(age,\"your senior citizen\")\n",
    "else:\n",
    "    print(age,\" your aliann  alian \")"
   ]
  },
  {
   "cell_type": "code",
   "execution_count": 4,
   "id": "bd4de9f8",
   "metadata": {},
   "outputs": [
    {
     "data": {
      "text/plain": [
       "' wap to read percenatage marks a from user and print appropiate message as follows\\nmarks             message\\n100 to 80        distinction\\n60 to <80        first class\\n50 to <60        second class\\n40 to <50        third class\\n<40              fail\\n'"
      ]
     },
     "execution_count": 4,
     "metadata": {},
     "output_type": "execute_result"
    }
   ],
   "source": [
    "''' wap to read percenatage marks a from user and print appropiate message as follows\n",
    "marks             message\n",
    "100 to 80        distinction\n",
    "60 to <80        first class\n",
    "50 to <60        second class\n",
    "40 to <50        third class\n",
    "<40              fail\n",
    "'''\n"
   ]
  },
  {
   "cell_type": "code",
   "execution_count": 8,
   "id": "3c71f5bf",
   "metadata": {},
   "outputs": [
    {
     "name": "stdout",
     "output_type": "stream",
     "text": [
      "enetr the  DIGIT-15\n",
      "-15 is not single digit\n"
     ]
    }
   ],
   "source": [
    "#logical operator\n",
    "#WAP TO READ AN INTEGER AND CHECK IF IT IS SINGLE DIGIT OR NOT\n",
    "a=int(input(\"enetr the  DIGIT\"))\n",
    "if a>-10 and a<10:\n",
    "    print(a,\"is single digit\")\n",
    "else:\n",
    "    print(a,\"is not single digit\")\n"
   ]
  },
  {
   "cell_type": "code",
   "execution_count": 10,
   "id": "3af0f8b2",
   "metadata": {},
   "outputs": [
    {
     "name": "stdout",
     "output_type": "stream",
     "text": [
      "enetr the first number25\n",
      "enetr the second number36\n",
      "enetr the second number48\n",
      "48 is lagest\n"
     ]
    }
   ],
   "source": [
    "# #WAP TO READ THREE NUMBER AND FIND LARGEST USING NESTED IF ELSE\n",
    "#WAP TO READ THREE NUMBER AND FIND LARGEST USING NESTED IF ELSE\n",
    "a=eval(input(\"enetr the first number\"))\n",
    "b=eval(input(\"enetr the second number\"))\n",
    "\n",
    "c=eval(input(\"enetr the second number\"))\n",
    "if a>b and a>c:\n",
    "    print(a,\"is lagest\")\n",
    "elif b>c:  \n",
    "    print(b,\"is lagest\")\n",
    "else:\n",
    "    print(c,\"is lagest\")"
   ]
  },
  {
   "cell_type": "code",
   "execution_count": 11,
   "id": "d51f1cbc",
   "metadata": {},
   "outputs": [
    {
     "data": {
      "text/plain": [
       "'0b1110'"
      ]
     },
     "execution_count": 11,
     "metadata": {},
     "output_type": "execute_result"
    }
   ],
   "source": [
    "# bit- wise operator\n",
    "x=14\n",
    "bin(x)\n"
   ]
  },
  {
   "cell_type": "code",
   "execution_count": 13,
   "id": "55981a32",
   "metadata": {},
   "outputs": [
    {
     "data": {
      "text/plain": [
       "'0b1111'"
      ]
     },
     "execution_count": 13,
     "metadata": {},
     "output_type": "execute_result"
    }
   ],
   "source": [
    "y=15\n",
    "bin(y)"
   ]
  },
  {
   "cell_type": "code",
   "execution_count": 15,
   "id": "cb858fef",
   "metadata": {},
   "outputs": [
    {
     "data": {
      "text/plain": [
       "14"
      ]
     },
     "execution_count": 15,
     "metadata": {},
     "output_type": "execute_result"
    }
   ],
   "source": [
    "x&y"
   ]
  },
  {
   "cell_type": "code",
   "execution_count": 16,
   "id": "13e3a600",
   "metadata": {},
   "outputs": [
    {
     "data": {
      "text/plain": [
       "15"
      ]
     },
     "execution_count": 16,
     "metadata": {},
     "output_type": "execute_result"
    }
   ],
   "source": [
    "x|y"
   ]
  },
  {
   "cell_type": "code",
   "execution_count": 17,
   "id": "740a6932",
   "metadata": {},
   "outputs": [
    {
     "data": {
      "text/plain": [
       "1"
      ]
     },
     "execution_count": 17,
     "metadata": {},
     "output_type": "execute_result"
    }
   ],
   "source": [
    "x^y"
   ]
  },
  {
   "cell_type": "code",
   "execution_count": 18,
   "id": "dd89d26a",
   "metadata": {},
   "outputs": [
    {
     "data": {
      "text/plain": [
       "-15"
      ]
     },
     "execution_count": 18,
     "metadata": {},
     "output_type": "execute_result"
    }
   ],
   "source": [
    "~x"
   ]
  },
  {
   "cell_type": "code",
   "execution_count": 19,
   "id": "1e72d3fb",
   "metadata": {},
   "outputs": [
    {
     "data": {
      "text/plain": [
       "56"
      ]
     },
     "execution_count": 19,
     "metadata": {},
     "output_type": "execute_result"
    }
   ],
   "source": [
    "x<<2"
   ]
  },
  {
   "cell_type": "code",
   "execution_count": 20,
   "id": "b0495b2e",
   "metadata": {},
   "outputs": [
    {
     "data": {
      "text/plain": [
       "3"
      ]
     },
     "execution_count": 20,
     "metadata": {},
     "output_type": "execute_result"
    }
   ],
   "source": [
    "x>>2"
   ]
  },
  {
   "cell_type": "code",
   "execution_count": null,
   "id": "4ac9419b",
   "metadata": {},
   "outputs": [],
   "source": []
  }
 ],
 "metadata": {
  "kernelspec": {
   "display_name": "Python 3 (ipykernel)",
   "language": "python",
   "name": "python3"
  },
  "language_info": {
   "codemirror_mode": {
    "name": "ipython",
    "version": 3
   },
   "file_extension": ".py",
   "mimetype": "text/x-python",
   "name": "python",
   "nbconvert_exporter": "python",
   "pygments_lexer": "ipython3",
   "version": "3.10.9"
  }
 },
 "nbformat": 4,
 "nbformat_minor": 5
}

{
 "cells": [
  {
   "cell_type": "code",
   "execution_count": 2,
   "id": "9378926d",
   "metadata": {},
   "outputs": [
    {
     "name": "stdout",
     "output_type": "stream",
     "text": [
      "enter matrix -1\n",
      "row-11 2 3\n",
      "row-24 5 6\n",
      "row-3 7 8 9\n",
      "enter matrix -2\n",
      "row-11 2 3\n",
      "row-24 5 6\n",
      "row-37 8 9\n",
      "[[30, 36, 42], [66, 81, 96], [102, 126, 150]]\n"
     ]
    }
   ],
   "source": [
    "print(\"enter matrix -1\")\n",
    "m1=[[int(x) for x in input(\"row-%d\"%(i+1)).split()] for i in range(3)]\n",
    "print(\"enter matrix -2\")\n",
    "m2=[[int(x) for x in input(\"row-%d\"%(i+1)).split()] for i in range(3)]\n",
    "m3=[[0 for j in range(3)] for i in range(3)]\n",
    "\n",
    "for i in range(3):\n",
    "    for j in range(3):\n",
    "        for k in range(3):\n",
    "            m3[i][j]=m3[i][j]+m1[i][k]*m2[k][j]\n",
    "            \n",
    "            \n",
    "print(m3)            "
   ]
  },
  {
   "cell_type": "code",
   "execution_count": null,
   "id": "b80cf63a",
   "metadata": {},
   "outputs": [],
   "source": [
    "m3=[[[m3[i][j]+m1[i][k]*m2[k][j] for k in range(3)]for j in range(3)]for i in range(3)]"
   ]
  },
  {
   "cell_type": "code",
   "execution_count": 6,
   "id": "97675a6e",
   "metadata": {},
   "outputs": [
    {
     "data": {
      "text/plain": [
       "[[30, 36, 42], [66, 81, 96], [102, 126, 150]]"
      ]
     },
     "execution_count": 6,
     "metadata": {},
     "output_type": "execute_result"
    }
   ],
   "source": [
    "m3=[[sum(a*b for a,b in zip(r,c)) for c in zip (*m2)] for r in m1]\n",
    "m3"
   ]
  },
  {
   "cell_type": "code",
   "execution_count": 7,
   "id": "5fc27ee3",
   "metadata": {},
   "outputs": [
    {
     "name": "stdout",
     "output_type": "stream",
     "text": [
      "enter nested list\n",
      "sublist-11 2 3 4\n",
      "sublist-2 6 7\n",
      "sublist-3 7 5 2\n",
      "14\n"
     ]
    }
   ],
   "source": [
    "m1=[[int(x) for x in input(\"row-%d\"%(i+1)).split()] for i in range(3)]\n",
    "#highgest sum\n",
    "print(\"enter nested list\")\n",
    "a=[[int(x) for x in input(\"sublist-%d\"%(i+1)).split()] for i in range(3)]\n",
    "\n",
    "print(max([sum(sublist) for sublist in a]))\n",
    "\n",
    "\n",
    "\n",
    "\n",
    "\n",
    "\n",
    "\n",
    "\n",
    "\n",
    "\n",
    "\n",
    "\n"
   ]
  },
  {
   "cell_type": "code",
   "execution_count": 13,
   "id": "ee7a2aab",
   "metadata": {},
   "outputs": [
    {
     "name": "stdout",
     "output_type": "stream",
     "text": [
      "enter the nested list\n",
      "sublist-11 23 2\n",
      "sublist-2 4 5 6\n",
      "sublist-3 123 \n",
      "sublist-4 54 5 6\n",
      "sublist with highest sum= [123]\n"
     ]
    }
   ],
   "source": [
    "print(\"enter the nested list\")\n",
    "a=[[int(x) for x in input(\"sublist-%d\"%(i+1)).split()] for i in range(4)]\n",
    "max=sum(a[0])\n",
    "j=1\n",
    "while j<len(a):\n",
    "    if sum(a[j])>max:\n",
    "        max=sum(a[j])\n",
    "        pos=j\n",
    "    j+=1\n",
    "print(\"sublist with highest sum=\",a[pos])    "
   ]
  },
  {
   "cell_type": "code",
   "execution_count": 26,
   "id": "b9195cc1",
   "metadata": {},
   "outputs": [
    {
     "name": "stdout",
     "output_type": "stream",
     "text": [
      "[[['*', '*', '*', '*', '*', '*'], ['*', '*', '*', '*', '*', '*'], ['*', '*', '*', '*', '*', '*'], ['*', '*', '*', '*', '*', '*']], [['*', '*', '*', '*', '*', '*'], ['*', '*', '*', '*', '*', '*'], ['*', '*', '*', '*', '*', '*'], ['*', '*', '*', '*', '*', '*']], [['*', '*', '*', '*', '*', '*'], ['*', '*', '*', '*', '*', '*'], ['*', '*', '*', '*', '*', '*'], ['*', '*', '*', '*', '*', '*']]]\n"
     ]
    }
   ],
   "source": [
    "#wap to generate 3 x 4 x6 3D array whose each element is  *\n",
    "a=[]\n",
    "for i in range(3):\n",
    "    sub=[]\n",
    "    for j in range(4):\n",
    "        s=[]\n",
    "        for k in range(6):\n",
    "            s.append(\"*\")\n",
    "        sub.append(s)    \n",
    "    a.append(sub)   \n",
    "print(a)       \n",
    "     \n",
    "        \n",
    "        \n",
    "        \n",
    "        \n",
    "        \n",
    "        \n",
    "        \n",
    "        \n",
    "        \n",
    "        \n",
    "        \n",
    "        "
   ]
  },
  {
   "cell_type": "code",
   "execution_count": 27,
   "id": "3eeede74",
   "metadata": {},
   "outputs": [
    {
     "name": "stdout",
     "output_type": "stream",
     "text": [
      "[[['*', '*', '*', '*', '*', '*'], ['*', '*', '*', '*', '*', '*'], ['*', '*', '*', '*', '*', '*'], ['*', '*', '*', '*', '*', '*']], [['*', '*', '*', '*', '*', '*'], ['*', '*', '*', '*', '*', '*'], ['*', '*', '*', '*', '*', '*'], ['*', '*', '*', '*', '*', '*']], [['*', '*', '*', '*', '*', '*'], ['*', '*', '*', '*', '*', '*'], ['*', '*', '*', '*', '*', '*'], ['*', '*', '*', '*', '*', '*']]]\n"
     ]
    }
   ],
   "source": [
    "a=[[[\"*\" for k in range(6)] for j in range(4)] for k in range(3)]\n",
    "print(a)"
   ]
  },
  {
   "cell_type": "code",
   "execution_count": null,
   "id": "414cf635",
   "metadata": {},
   "outputs": [],
   "source": []
  },
  {
   "cell_type": "code",
   "execution_count": null,
   "id": "50eb774b",
   "metadata": {},
   "outputs": [],
   "source": []
  },
  {
   "cell_type": "code",
   "execution_count": null,
   "id": "32e44577",
   "metadata": {},
   "outputs": [],
   "source": []
  }
 ],
 "metadata": {
  "kernelspec": {
   "display_name": "Python 3 (ipykernel)",
   "language": "python",
   "name": "python3"
  },
  "language_info": {
   "codemirror_mode": {
    "name": "ipython",
    "version": 3
   },
   "file_extension": ".py",
   "mimetype": "text/x-python",
   "name": "python",
   "nbconvert_exporter": "python",
   "pygments_lexer": "ipython3",
   "version": "3.11.4"
  }
 },
 "nbformat": 4,
 "nbformat_minor": 5
}
